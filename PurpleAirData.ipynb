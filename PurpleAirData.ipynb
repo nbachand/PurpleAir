{
 "cells": [
  {
   "cell_type": "code",
   "execution_count": 34,
   "metadata": {},
   "outputs": [
    {
     "name": "stdout",
     "output_type": "stream",
     "text": [
      "The autoreload extension is already loaded. To reload it, use:\n",
      "  %reload_ext autoreload\n"
     ]
    }
   ],
   "source": [
    "%load_ext autoreload\n",
    "%autoreload 2\n",
    "# %matplotlib widget\n",
    "\n",
    "from download_PurpleAir_data import *\n",
    "import datetime"
   ]
  },
  {
   "cell_type": "code",
   "execution_count": 40,
   "metadata": {},
   "outputs": [
    {
     "ename": "TypeError",
     "evalue": "list indices must be integers or slices, not str",
     "output_type": "error",
     "traceback": [
      "\u001b[0;31m---------------------------------------------------------------------------\u001b[0m",
      "\u001b[0;31mTypeError\u001b[0m                                 Traceback (most recent call last)",
      "Cell \u001b[0;32mIn[40], line 5\u001b[0m\n\u001b[1;32m      2\u001b[0m city_longitude \u001b[38;5;241m=\u001b[39m \u001b[38;5;241m-\u001b[39m\u001b[38;5;241m118.2437\u001b[39m  \u001b[38;5;66;03m# Replace with the longitude of the city's center\u001b[39;00m\n\u001b[1;32m      3\u001b[0m radius \u001b[38;5;241m=\u001b[39m \u001b[38;5;241m10000\u001b[39m  \u001b[38;5;66;03m# Radius in meters\u001b[39;00m\n\u001b[0;32m----> 5\u001b[0m sensor_ids \u001b[38;5;241m=\u001b[39m \u001b[43mget_purpleair_sensor_ids\u001b[49m\u001b[43m(\u001b[49m\u001b[43mcity_latitude\u001b[49m\u001b[43m,\u001b[49m\u001b[43m \u001b[49m\u001b[43mcity_longitude\u001b[49m\u001b[43m,\u001b[49m\u001b[43m \u001b[49m\u001b[43mradius\u001b[49m\u001b[43m)\u001b[49m\n\u001b[1;32m      6\u001b[0m \u001b[38;5;28mprint\u001b[39m(sensor_ids)\n",
      "Cell \u001b[0;32mIn[32], line 20\u001b[0m, in \u001b[0;36mget_purpleair_sensor_ids\u001b[0;34m(latitude, longitude, radius_meters, indoor, api_key)\u001b[0m\n\u001b[1;32m     18\u001b[0m \u001b[38;5;28;01mif\u001b[39;00m response\u001b[38;5;241m.\u001b[39mstatus_code \u001b[38;5;241m==\u001b[39m \u001b[38;5;241m200\u001b[39m:\n\u001b[1;32m     19\u001b[0m     sensors \u001b[38;5;241m=\u001b[39m response\u001b[38;5;241m.\u001b[39mjson()[\u001b[38;5;124m\"\u001b[39m\u001b[38;5;124mdata\u001b[39m\u001b[38;5;124m\"\u001b[39m]\n\u001b[0;32m---> 20\u001b[0m     sensor_ids \u001b[38;5;241m=\u001b[39m [\u001b[43msensor\u001b[49m\u001b[43m[\u001b[49m\u001b[38;5;124;43m\"\u001b[39;49m\u001b[38;5;124;43msensor_index\u001b[39;49m\u001b[38;5;124;43m\"\u001b[39;49m\u001b[43m]\u001b[49m \u001b[38;5;28;01mfor\u001b[39;00m sensor \u001b[38;5;129;01min\u001b[39;00m sensors]\n\u001b[1;32m     21\u001b[0m     \u001b[38;5;28;01mreturn\u001b[39;00m sensor_ids\n\u001b[1;32m     22\u001b[0m \u001b[38;5;28;01melse\u001b[39;00m:\n",
      "\u001b[0;31mTypeError\u001b[0m: list indices must be integers or slices, not str"
     ]
    }
   ],
   "source": [
    "city_latitude = 34.0522   # Replace with the latitude of the city's center\n",
    "city_longitude = -118.2437  # Replace with the longitude of the city's center\n",
    "radius = 10000  # Radius in meters\n",
    "\n",
    "sensor_ids = get_purpleair_sensor_ids(city_latitude, city_longitude, radius)\n",
    "print(sensor_ids)"
   ]
  },
  {
   "cell_type": "code",
   "execution_count": 22,
   "metadata": {},
   "outputs": [
    {
     "name": "stderr",
     "output_type": "stream",
     "text": [
      "/Users/nicholasbachand/Documents/Research/PurpleAir/download_PurpleAir_data.py:20: FutureWarning: The behavior of DataFrame concatenation with empty or all-NA entries is deprecated. In a future version, this will no longer exclude empty or all-NA columns when determining the result dtypes. To retain the old behavior, exclude the relevant entries before the concat operation.\n",
      "  df = pd.concat([df, pd.read_csv(StringIO(response.text))])\n"
     ]
    },
    {
     "name": "stdout",
     "output_type": "stream",
     "text": [
      "44944 rows exported and saved\n"
     ]
    },
    {
     "data": {
      "text/html": [
       "<div>\n",
       "<style scoped>\n",
       "    .dataframe tbody tr th:only-of-type {\n",
       "        vertical-align: middle;\n",
       "    }\n",
       "\n",
       "    .dataframe tbody tr th {\n",
       "        vertical-align: top;\n",
       "    }\n",
       "\n",
       "    .dataframe thead th {\n",
       "        text-align: right;\n",
       "    }\n",
       "</style>\n",
       "<table border=\"1\" class=\"dataframe\">\n",
       "  <thead>\n",
       "    <tr style=\"text-align: right;\">\n",
       "      <th></th>\n",
       "      <th>time_stamp</th>\n",
       "      <th>sensor_index</th>\n",
       "      <th>pressure</th>\n",
       "      <th>temperature</th>\n",
       "    </tr>\n",
       "  </thead>\n",
       "  <tbody>\n",
       "    <tr>\n",
       "      <th>0</th>\n",
       "      <td>1717225316</td>\n",
       "      <td>117579</td>\n",
       "      <td>100985.0</td>\n",
       "      <td>89.0</td>\n",
       "    </tr>\n",
       "    <tr>\n",
       "      <th>1</th>\n",
       "      <td>1717225436</td>\n",
       "      <td>117579</td>\n",
       "      <td>100981.0</td>\n",
       "      <td>89.0</td>\n",
       "    </tr>\n",
       "    <tr>\n",
       "      <th>2</th>\n",
       "      <td>1717225556</td>\n",
       "      <td>117579</td>\n",
       "      <td>100988.0</td>\n",
       "      <td>89.0</td>\n",
       "    </tr>\n",
       "    <tr>\n",
       "      <th>3</th>\n",
       "      <td>1717225676</td>\n",
       "      <td>117579</td>\n",
       "      <td>100987.0</td>\n",
       "      <td>89.0</td>\n",
       "    </tr>\n",
       "    <tr>\n",
       "      <th>4</th>\n",
       "      <td>1717225796</td>\n",
       "      <td>117579</td>\n",
       "      <td>100990.0</td>\n",
       "      <td>89.0</td>\n",
       "    </tr>\n",
       "    <tr>\n",
       "      <th>...</th>\n",
       "      <td>...</td>\n",
       "      <td>...</td>\n",
       "      <td>...</td>\n",
       "      <td>...</td>\n",
       "    </tr>\n",
       "    <tr>\n",
       "      <th>44939</th>\n",
       "      <td>1722639016</td>\n",
       "      <td>117579</td>\n",
       "      <td>101564.0</td>\n",
       "      <td>93.0</td>\n",
       "    </tr>\n",
       "    <tr>\n",
       "      <th>44940</th>\n",
       "      <td>1722639136</td>\n",
       "      <td>117579</td>\n",
       "      <td>101563.0</td>\n",
       "      <td>93.0</td>\n",
       "    </tr>\n",
       "    <tr>\n",
       "      <th>44941</th>\n",
       "      <td>1722639256</td>\n",
       "      <td>117579</td>\n",
       "      <td>101560.0</td>\n",
       "      <td>93.0</td>\n",
       "    </tr>\n",
       "    <tr>\n",
       "      <th>44942</th>\n",
       "      <td>1722639376</td>\n",
       "      <td>117579</td>\n",
       "      <td>101556.0</td>\n",
       "      <td>93.0</td>\n",
       "    </tr>\n",
       "    <tr>\n",
       "      <th>44943</th>\n",
       "      <td>1722639496</td>\n",
       "      <td>117579</td>\n",
       "      <td>101553.0</td>\n",
       "      <td>93.0</td>\n",
       "    </tr>\n",
       "  </tbody>\n",
       "</table>\n",
       "<p>44944 rows × 4 columns</p>\n",
       "</div>"
      ],
      "text/plain": [
       "       time_stamp sensor_index  pressure  temperature\n",
       "0      1717225316       117579  100985.0         89.0\n",
       "1      1717225436       117579  100981.0         89.0\n",
       "2      1717225556       117579  100988.0         89.0\n",
       "3      1717225676       117579  100987.0         89.0\n",
       "4      1717225796       117579  100990.0         89.0\n",
       "...           ...          ...       ...          ...\n",
       "44939  1722639016       117579  101564.0         93.0\n",
       "44940  1722639136       117579  101563.0         93.0\n",
       "44941  1722639256       117579  101560.0         93.0\n",
       "44942  1722639376       117579  101556.0         93.0\n",
       "44943  1722639496       117579  101553.0         93.0\n",
       "\n",
       "[44944 rows x 4 columns]"
      ]
     },
     "execution_count": 22,
     "metadata": {},
     "output_type": "execute_result"
    }
   ],
   "source": [
    "start_time = datetime.datetime(2024, 6, 1, 0, 0).timestamp() #1652156890\n",
    "end_time = datetime.datetime(2024, 8, 4, 0, 0).timestamp()# 1675238400\n",
    "\n",
    "df = fetch_purpleair_data(\n",
    "    sensor_ids = [117579],\n",
    "    start_time = start_time,\n",
    "    end_time = end_time,\n",
    "    path = './Data/Sacramento'\n",
    ")\n",
    "\n",
    "df"
   ]
  }
 ],
 "metadata": {
  "kernelspec": {
   "display_name": "purpleAir",
   "language": "python",
   "name": "python3"
  },
  "language_info": {
   "codemirror_mode": {
    "name": "ipython",
    "version": 3
   },
   "file_extension": ".py",
   "mimetype": "text/x-python",
   "name": "python",
   "nbconvert_exporter": "python",
   "pygments_lexer": "ipython3",
   "version": "3.12.5"
  }
 },
 "nbformat": 4,
 "nbformat_minor": 2
}
